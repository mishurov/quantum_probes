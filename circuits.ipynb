{
 "cells": [
  {
   "cell_type": "code",
   "execution_count": null,
   "metadata": {
    "scrolled": false
   },
   "outputs": [],
   "source": [
    "# Install cirq if the runtime doesn't have one\n",
    "import sys\n",
    "!{sys.executable} -m pip install cirq==0.3.1.35"
   ]
  },
  {
   "cell_type": "markdown",
   "metadata": {},
   "source": [
    "## Quantum Fourier Transform"
   ]
  },
  {
   "cell_type": "code",
   "execution_count": 1,
   "metadata": {},
   "outputs": [
    {
     "name": "stdout",
     "output_type": "stream",
     "text": [
      "Circuit\n",
      "(0, 0): ───H───@───────×───H────────────@─────────×───H────────────@───────×───H───\n",
      "               │       │                │         │                │       │\n",
      "(0, 1): ───────@^0.5───×───@────────×───@^0.5─────×───@────────×───@^0.5───×───────\n",
      "                           │        │                 │        │\n",
      "(1, 0): ───────────────────┼────────┼───@─────────×───┼────────┼───────────────────\n",
      "                           │        │   │         │   │        │\n",
      "(1, 1): ───────────────────@^0.25───×───@^0.125───×───@^0.25───×───────────────────\n",
      "\n",
      "FinalState\n",
      "[0.25+0.j 0.25+0.j 0.25+0.j 0.25+0.j 0.25+0.j 0.25+0.j 0.25+0.j 0.25+0.j\n",
      " 0.25+0.j 0.25+0.j 0.25+0.j 0.25+0.j 0.25+0.j 0.25+0.j 0.25+0.j 0.25+0.j]\n"
     ]
    }
   ],
   "source": [
    "import numpy as np\n",
    "import cirq\n",
    "\n",
    "\n",
    "def cz_and_swap(q0, q1, rot):\n",
    "    # Controlled Z and SWAP gates\n",
    "    yield cirq.CZ(q0, q1)**rot\n",
    "    yield cirq.SWAP(q0,q1)\n",
    "\n",
    "\n",
    "def qft_circuit():\n",
    "    # 2x2 square grid of qubits\n",
    "    a,b,c,d = [cirq.GridQubit(0, 0), cirq.GridQubit(0, 1),\n",
    "               cirq.GridQubit(1, 1), cirq.GridQubit(1, 0)]\n",
    "\n",
    "    circuit = cirq.Circuit.from_ops(\n",
    "        # Hadamard gate\n",
    "        cirq.H(a),\n",
    "        cz_and_swap(a, b, 0.5),\n",
    "        cz_and_swap(b, c, 0.25),\n",
    "        cz_and_swap(c, d, 0.125),\n",
    "        cirq.H(a),\n",
    "        cz_and_swap(a, b, 0.5),\n",
    "        cz_and_swap(b, c, 0.25),\n",
    "        cirq.H(a),\n",
    "        cz_and_swap(a, b, 0.5),\n",
    "        cirq.H(a),\n",
    "        strategy=cirq.InsertStrategy.EARLIEST\n",
    "    )\n",
    "    return circuit\n",
    "\n",
    "\n",
    "def main():\n",
    "    circuit = qft_circuit()\n",
    "    print('Circuit')\n",
    "    print(circuit)\n",
    "    simulator = cirq.google.XmonSimulator()\n",
    "    result = simulator.simulate(circuit)\n",
    "    print()\n",
    "    print('FinalState')\n",
    "    print(np.around(result.final_state, 3))\n",
    "\n",
    "\n",
    "main()"
   ]
  }
 ],
 "metadata": {
  "kernelspec": {
   "display_name": "Python 3",
   "language": "python",
   "name": "python3"
  },
  "language_info": {
   "codemirror_mode": {
    "name": "ipython",
    "version": 3
   },
   "file_extension": ".py",
   "mimetype": "text/x-python",
   "name": "python",
   "nbconvert_exporter": "python",
   "pygments_lexer": "ipython3",
   "version": "3.5.3"
  }
 },
 "nbformat": 4,
 "nbformat_minor": 2
}
